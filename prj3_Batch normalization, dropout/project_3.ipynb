{
 "cells": [
  {
   "cell_type": "markdown",
   "id": "f79128e4",
   "metadata": {},
   "source": [
    "## Project 3"
   ]
  },
  {
   "cell_type": "markdown",
   "id": "b796ac23",
   "metadata": {},
   "source": [
    "1. Project 목표\n",
    "\n",
    "Batch normalization, dropout에 따른 모델의 성능 변화 이해"
   ]
  },
  {
   "cell_type": "code",
   "execution_count": null,
   "id": "19e9e81c",
   "metadata": {},
   "outputs": [],
   "source": [
    "import os, random\n",
    "import keras\n",
    "from keras.datasets import fashion_mnist\n",
    "from keras.models import Sequential\n",
    "from keras.layers import Dense, BatchNormalization, Dropout\n",
    "from keras.utils import np_utils\n",
    "import numpy as np\n",
    "import tensorflow as tf\n",
    "os.path.expanduser = lambda path: './'"
   ]
  },
  {
   "cell_type": "code",
   "execution_count": null,
   "id": "af9345a1",
   "metadata": {},
   "outputs": [],
   "source": [
    "batch_size = 128\n",
    "num_classes = 10\n",
    "epochs = 60\n",
    "\n",
    "# the data, split between train and test sets\n",
    "(x_train, y_train), (x_test, y_test) = fashion_mnist.load_data()\n",
    "\n",
    "x_train = x_train.reshape(60000, 784)\n",
    "x_test = x_test.reshape(10000, 784)\n",
    "x_train = x_train.astype('float32')\n",
    "x_test = x_test.astype('float32')\n",
    "x_train /= 255\n",
    "x_test /= 255\n",
    "print(x_train.shape[0], 'train samples')\n",
    "print(x_test.shape[0], 'test samples')\n",
    "\n",
    "# convert class vectors to binary class matrices\n",
    "y_train = keras.utils.np_utils.to_categorical(y_train, num_classes)\n",
    "y_test = keras.utils.np_utils.to_categorical(y_test, num_classes)"
   ]
  },
  {
   "cell_type": "markdown",
   "id": "06a631a1",
   "metadata": {},
   "source": [
    "#### 1) dropout rate == 0.2 "
   ]
  },
  {
   "cell_type": "code",
   "execution_count": null,
   "id": "94cfd044",
   "metadata": {},
   "outputs": [],
   "source": [
    "# for reproducibility\n",
    "import random, os\n",
    "os.environ['PYTHONHASHSEED']='0'\n",
    "random.seed(123)\n",
    "np.random.seed(123)\n",
    "tf.random.set_seed(123)\n",
    "sess = tf.compat.v1.Session(config=tf.compat.v1.ConfigProto(intra_op_parallelism_threads=1,    inter_op_parallelism_threads=1,\n",
    "                                                               allow_soft_placement=True, device_count = {'CPU': 1}))\n",
    "from tensorflow.python.keras import backend as K\n",
    "K.set_session(sess)\n",
    "\n",
    "\n",
    "\n",
    "kernel_initializer='glorot_uniform'\n",
    "activation_function = 'relu'\n",
    "\n",
    "with tf.device('/cpu:0'):\n",
    "    model = Sequential()\n",
    "    model.add(Dense(512, activation='relu', input_shape=(784,)))\n",
    "    model.add(Dropout(0.2))\n",
    "    #model.add(BatchNormalization())\n",
    "    model.add(Dense(512, activation='relu'))\n",
    "    model.add(Dropout(0.2))\n",
    "    #model.add(BatchNormalization())\n",
    "    model.add(Dense(num_classes, activation='softmax'))\n",
    "\n",
    "    model.summary()\n",
    "\n",
    "    model.compile(loss='categorical_crossentropy',\n",
    "                  optimizer='sgd',\n",
    "                  metrics=['accuracy'])"
   ]
  },
  {
   "cell_type": "code",
   "execution_count": null,
   "id": "ee10145f",
   "metadata": {},
   "outputs": [],
   "source": [
    "history = model.fit(x_train, y_train,\n",
    "                    batch_size=batch_size,\n",
    "                    epochs=epochs,\n",
    "                    validation_split=0.2)"
   ]
  },
  {
   "cell_type": "code",
   "execution_count": null,
   "id": "01864625",
   "metadata": {},
   "outputs": [],
   "source": [
    "metrics = model.evaluate(x_test, y_test) #returns loss and accuracy\n",
    "print(metrics[1])\n",
    "print(f'Accuracy: {metrics[1]*100:.2f}%\\n')"
   ]
  },
  {
   "cell_type": "markdown",
   "id": "2a08d679",
   "metadata": {},
   "source": [
    "batch normalization까지 추가"
   ]
  },
  {
   "cell_type": "code",
   "execution_count": null,
   "id": "c55b50a8",
   "metadata": {},
   "outputs": [],
   "source": [
    "# for reproducibility\n",
    "import random, os\n",
    "os.environ['PYTHONHASHSEED']='0'\n",
    "random.seed(123)\n",
    "np.random.seed(123)\n",
    "tf.random.set_seed(123)\n",
    "sess = tf.compat.v1.Session(config=tf.compat.v1.ConfigProto(intra_op_parallelism_threads=1,    inter_op_parallelism_threads=1,\n",
    "                                                               allow_soft_placement=True, device_count = {'CPU': 1}))\n",
    "from tensorflow.python.keras import backend as K\n",
    "K.set_session(sess)\n",
    "\n",
    "\n",
    "\n",
    "kernel_initializer='glorot_uniform'\n",
    "activation_function = 'relu'\n",
    "\n",
    "with tf.device('/cpu:0'):\n",
    "    model = Sequential()\n",
    "    model.add(Dense(512, activation='relu', input_shape=(784,)))\n",
    "    model.add(Dropout(0.2))\n",
    "    model.add(BatchNormalization())\n",
    "    model.add(Dense(512, activation='relu'))\n",
    "    model.add(Dropout(0.2))\n",
    "    model.add(BatchNormalization())\n",
    "    model.add(Dense(num_classes, activation='softmax'))\n",
    "\n",
    "    model.summary()\n",
    "\n",
    "    model.compile(loss='categorical_crossentropy',\n",
    "                  optimizer='sgd',\n",
    "                  metrics=['accuracy'])"
   ]
  },
  {
   "cell_type": "code",
   "execution_count": null,
   "id": "9c60bc36",
   "metadata": {},
   "outputs": [],
   "source": [
    "history = model.fit(x_train, y_train,\n",
    "                    batch_size=batch_size,\n",
    "                    epochs=epochs,\n",
    "                    validation_split=0.2)"
   ]
  },
  {
   "cell_type": "code",
   "execution_count": null,
   "id": "3b1d9937",
   "metadata": {},
   "outputs": [],
   "source": [
    "metrics = model.evaluate(x_test, y_test) #returns loss and accuracy\n",
    "print(metrics[1])\n",
    "print(f'Accuracy: {metrics[1]*100:.2f}%\\n')"
   ]
  },
  {
   "cell_type": "markdown",
   "id": "5a4e7080",
   "metadata": {},
   "source": [
    "#### 2) dropout rate == 0.5"
   ]
  },
  {
   "cell_type": "code",
   "execution_count": null,
   "id": "c6113a22",
   "metadata": {},
   "outputs": [],
   "source": [
    "# for reproducibility\n",
    "import random, os\n",
    "os.environ['PYTHONHASHSEED']='0'\n",
    "random.seed(123)\n",
    "np.random.seed(123)\n",
    "tf.random.set_seed(123)\n",
    "sess = tf.compat.v1.Session(config=tf.compat.v1.ConfigProto(intra_op_parallelism_threads=1,    inter_op_parallelism_threads=1,\n",
    "                                                               allow_soft_placement=True, device_count = {'CPU': 1}))\n",
    "from tensorflow.python.keras import backend as K\n",
    "K.set_session(sess)\n",
    "\n",
    "\n",
    "\n",
    "kernel_initializer='glorot_uniform'\n",
    "activation_function = 'relu'\n",
    "\n",
    "with tf.device('/cpu:0'):\n",
    "    model = Sequential()\n",
    "    model.add(Dense(512, activation='relu', input_shape=(784,)))\n",
    "    model.add(Dropout(0.5))\n",
    "    #model.add(BatchNormalization())\n",
    "    model.add(Dense(512, activation='relu'))\n",
    "    model.add(Dropout(0.5))\n",
    "    #model.add(BatchNormalization())\n",
    "    model.add(Dense(num_classes, activation='softmax'))\n",
    "\n",
    "    model.summary()\n",
    "\n",
    "    model.compile(loss='categorical_crossentropy',\n",
    "                  optimizer='sgd',\n",
    "                  metrics=['accuracy'])"
   ]
  },
  {
   "cell_type": "code",
   "execution_count": null,
   "id": "a975abd4",
   "metadata": {},
   "outputs": [],
   "source": [
    "history = model.fit(x_train, y_train,\n",
    "                    batch_size=batch_size,\n",
    "                    epochs=epochs,\n",
    "                    validation_split=0.2)"
   ]
  },
  {
   "cell_type": "code",
   "execution_count": null,
   "id": "4b3d28b9",
   "metadata": {},
   "outputs": [],
   "source": [
    "metrics = model.evaluate(x_test, y_test) #returns loss and accuracy\n",
    "print(metrics[1])\n",
    "print(f'Accuracy: {metrics[1]*100:.2f}%\\n')"
   ]
  },
  {
   "cell_type": "markdown",
   "id": "03ce1919",
   "metadata": {},
   "source": [
    "batch normalization까지 추가"
   ]
  },
  {
   "cell_type": "code",
   "execution_count": null,
   "id": "48d58c61",
   "metadata": {},
   "outputs": [],
   "source": [
    "# for reproducibility\n",
    "import random, os\n",
    "os.environ['PYTHONHASHSEED']='0'\n",
    "random.seed(123)\n",
    "np.random.seed(123)\n",
    "tf.random.set_seed(123)\n",
    "sess = tf.compat.v1.Session(config=tf.compat.v1.ConfigProto(intra_op_parallelism_threads=1,    inter_op_parallelism_threads=1,\n",
    "                                                               allow_soft_placement=True, device_count = {'CPU': 1}))\n",
    "from tensorflow.python.keras import backend as K\n",
    "K.set_session(sess)\n",
    "\n",
    "\n",
    "\n",
    "kernel_initializer='glorot_uniform'\n",
    "activation_function = 'relu'\n",
    "\n",
    "with tf.device('/cpu:0'):\n",
    "    model = Sequential()\n",
    "    model.add(Dense(512, activation='relu', input_shape=(784,)))\n",
    "    model.add(Dropout(0.5))\n",
    "    model.add(BatchNormalization())\n",
    "    model.add(Dense(512, activation='relu'))\n",
    "    model.add(Dropout(0.5))\n",
    "    model.add(BatchNormalization())\n",
    "    model.add(Dense(num_classes, activation='softmax'))\n",
    "\n",
    "    model.summary()\n",
    "\n",
    "    model.compile(loss='categorical_crossentropy',\n",
    "                  optimizer='sgd',\n",
    "                  metrics=['accuracy'])"
   ]
  },
  {
   "cell_type": "code",
   "execution_count": null,
   "id": "7774dcda",
   "metadata": {},
   "outputs": [],
   "source": [
    "history = model.fit(x_train, y_train,\n",
    "                    batch_size=batch_size,\n",
    "                    epochs=epochs,\n",
    "                    validation_split=0.2)"
   ]
  },
  {
   "cell_type": "code",
   "execution_count": null,
   "id": "4baddb14",
   "metadata": {},
   "outputs": [],
   "source": [
    "metrics = model.evaluate(x_test, y_test) #returns loss and accuracy\n",
    "print(metrics[1])\n",
    "print(f'Accuracy: {metrics[1]*100:.2f}%\\n')"
   ]
  },
  {
   "cell_type": "markdown",
   "id": "67bcce2c",
   "metadata": {},
   "source": [
    "#### 2) dropout rate == 0.8"
   ]
  },
  {
   "cell_type": "code",
   "execution_count": null,
   "id": "cdc1161b",
   "metadata": {},
   "outputs": [],
   "source": [
    "# for reproducibility\n",
    "import random, os\n",
    "os.environ['PYTHONHASHSEED']='0'\n",
    "random.seed(123)\n",
    "np.random.seed(123)\n",
    "tf.random.set_seed(123)\n",
    "sess = tf.compat.v1.Session(config=tf.compat.v1.ConfigProto(intra_op_parallelism_threads=1,    inter_op_parallelism_threads=1,\n",
    "                                                               allow_soft_placement=True, device_count = {'CPU': 1}))\n",
    "from tensorflow.python.keras import backend as K\n",
    "K.set_session(sess)\n",
    "\n",
    "\n",
    "\n",
    "kernel_initializer='glorot_uniform'\n",
    "activation_function = 'relu'\n",
    "\n",
    "with tf.device('/cpu:0'):\n",
    "    model = Sequential()\n",
    "    model.add(Dense(512, activation='relu', input_shape=(784,)))\n",
    "    model.add(Dropout(0.8))\n",
    "    #model.add(BatchNormalization())\n",
    "    model.add(Dense(512, activation='relu'))\n",
    "    model.add(Dropout(0.8))\n",
    "    #model.add(BatchNormalization())\n",
    "    model.add(Dense(num_classes, activation='softmax'))\n",
    "\n",
    "    model.summary()\n",
    "\n",
    "    model.compile(loss='categorical_crossentropy',\n",
    "                  optimizer='sgd',\n",
    "                  metrics=['accuracy'])"
   ]
  },
  {
   "cell_type": "code",
   "execution_count": null,
   "id": "0a878686",
   "metadata": {},
   "outputs": [],
   "source": [
    "history = model.fit(x_train, y_train,\n",
    "                    batch_size=batch_size,\n",
    "                    epochs=epochs,\n",
    "                    validation_split=0.2)"
   ]
  },
  {
   "cell_type": "code",
   "execution_count": null,
   "id": "5b85ad15",
   "metadata": {},
   "outputs": [],
   "source": [
    "metrics = model.evaluate(x_test, y_test) #returns loss and accuracy\n",
    "print(metrics[1])\n",
    "print(f'Accuracy: {metrics[1]*100:.2f}%\\n')"
   ]
  },
  {
   "cell_type": "markdown",
   "id": "09160509",
   "metadata": {},
   "source": [
    "batch normalization까지 추가"
   ]
  },
  {
   "cell_type": "code",
   "execution_count": null,
   "id": "0873d3f1",
   "metadata": {},
   "outputs": [],
   "source": [
    "# for reproducibility\n",
    "import random, os\n",
    "os.environ['PYTHONHASHSEED']='0'\n",
    "random.seed(123)\n",
    "np.random.seed(123)\n",
    "tf.random.set_seed(123)\n",
    "sess = tf.compat.v1.Session(config=tf.compat.v1.ConfigProto(intra_op_parallelism_threads=1,    inter_op_parallelism_threads=1,\n",
    "                                                               allow_soft_placement=True, device_count = {'CPU': 1}))\n",
    "from tensorflow.python.keras import backend as K\n",
    "K.set_session(sess)\n",
    "\n",
    "\n",
    "\n",
    "kernel_initializer='glorot_uniform'\n",
    "activation_function = 'relu'\n",
    "\n",
    "with tf.device('/cpu:0'):\n",
    "    model = Sequential()\n",
    "    model.add(Dense(512, activation='relu', input_shape=(784,)))\n",
    "    model.add(Dropout(0.8))\n",
    "    model.add(BatchNormalization())\n",
    "    model.add(Dense(512, activation='relu'))\n",
    "    model.add(Dropout(0.8))\n",
    "    model.add(BatchNormalization())\n",
    "    model.add(Dense(num_classes, activation='softmax'))\n",
    "\n",
    "    model.summary()\n",
    "\n",
    "    model.compile(loss='categorical_crossentropy',\n",
    "                  optimizer='sgd',\n",
    "                  metrics=['accuracy'])"
   ]
  },
  {
   "cell_type": "code",
   "execution_count": null,
   "id": "920e56a1",
   "metadata": {},
   "outputs": [],
   "source": [
    "history = model.fit(x_train, y_train,\n",
    "                    batch_size=batch_size,\n",
    "                    epochs=epochs,\n",
    "                    validation_split=0.2)"
   ]
  },
  {
   "cell_type": "code",
   "execution_count": null,
   "id": "a895acc0",
   "metadata": {},
   "outputs": [],
   "source": [
    "metrics = model.evaluate(x_test, y_test) #returns loss and accuracy\n",
    "print(metrics[1])\n",
    "print(f'Accuracy: {metrics[1]*100:.2f}%\\n')"
   ]
  },
  {
   "cell_type": "markdown",
   "id": "edaba784",
   "metadata": {},
   "source": [
    "##### 결과"
   ]
  },
  {
   "cell_type": "raw",
   "id": "6e693b16",
   "metadata": {},
   "source": [
    "dropout rate  |     only dropout    |   droupout + batch normalization \n",
    "              |                     |           \n",
    "0.2           |       87.61%        |           88.55%\n",
    "              |                     |\n",
    "0.5           |       86.98%        |           88.16%\n",
    "              |                     |\n",
    "0.8           |       84.80%        |           85.16%"
   ]
  },
  {
   "cell_type": "markdown",
   "id": "c758db77",
   "metadata": {},
   "source": [
    "##### 결과 관찰"
   ]
  },
  {
   "cell_type": "markdown",
   "id": "d3da4e04",
   "metadata": {},
   "source": [
    "1.dropout rate 가 0.2 0.5 0.8 로 점점 커질수록 accuracy 는 감소하였다. 이 양상은 only dropout code 와 droupout code에 batch normalization 까지 추가한 것 두가지 다 공통적으로 나타 났다. \n",
    "\n",
    "2.only dropout code 보다 droupout code에 batch normalization 까지 추가한 것이 더 높은 accuracy 결과가 나왔다. \n"
   ]
  },
  {
   "cell_type": "markdown",
   "id": "01fcb34a",
   "metadata": {},
   "source": [
    "##### 결과 분석 "
   ]
  },
  {
   "cell_type": "markdown",
   "id": "d0d5284e",
   "metadata": {},
   "source": [
    "1. dropout rate 가 0.2 0.5 0.8 로 점점 커질수록 accuracy 는 감소하였다. dropout rate 는 얼만큼의 확률로 뉴런들을 누락 시킬 것인지를 나타낸다. 따라서 보다 낮은 dropout rate 를 사용할때 더 큰 정확도를 보인다. 위 결과 에서 관찰 한것과 같이 몇몇 뉴런들을 dropout 시키는데 0.2 확률로 누락 시킨다면 0.5의 확률, 0.8의 확률 만큼 누락 시켰을 때보다 정확도는 올라가지만 overfitting 될 가능성이 있다. \n",
    "\n",
    "\n",
    "2. only dropout code 보다 droupout code에 batch normalization 까지 추가한 것이 더 높은 accuracy 결과가 나왔다. batch normalization는 자체적인 regularization 효과가 있다. 또한 batch mormalization layer은 network에서 데이터를 normalize하는 장점을 가지고 있다. 그리고 batch normalization을 추가해서 optimizaion 을 가속 시켜 training 을 안정적으로 만들어 준다. batch normalization 을 추가 하는 것은 data를 학습에 사용 되기 전에 standarize 시켜주는 효과가 있어 성능을 더 좋게 만들어 주어 accuracy 가 향상된다.  \n",
    "  "
   ]
  }
 ],
 "metadata": {
  "kernelspec": {
   "display_name": "Python 3 (ipykernel)",
   "language": "python",
   "name": "python3"
  },
  "language_info": {
   "codemirror_mode": {
    "name": "ipython",
    "version": 3
   },
   "file_extension": ".py",
   "mimetype": "text/x-python",
   "name": "python",
   "nbconvert_exporter": "python",
   "pygments_lexer": "ipython3",
   "version": "3.10.4"
  }
 },
 "nbformat": 4,
 "nbformat_minor": 5
}
